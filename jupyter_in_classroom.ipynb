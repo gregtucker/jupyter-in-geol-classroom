{
 "cells": [
  {
   "cell_type": "markdown",
   "metadata": {},
   "source": [
    "# Using Jupyter Notebooks in an Upper-Division GEOL Class\n",
    "\n",
    "*(Greg Tucker, demo for GEOL faculty, June 2020)*\n",
    "\n",
    "This notebook demonstrates some of the ways I used Jupyter Notebooks in **GEOL3820 Fluid Earth** during fall semester 2019.\n",
    "\n",
    "## Outline\n",
    "\n",
    "- About notebooks\n",
    "  - What's a Jupyter Notebook?\n",
    "  - How do you install notebook software?\n",
    "  - How do you run notebooks remotely?\n",
    "- Summary of uses in GEOL 3820 and GEOL 5775\n",
    "  - Lecturing with formatted math (simultaneous in-person and zoom)\n",
    "  - Student papers written as notebooks\n",
    "  - Lab and assignment-based exercises in data analysis and plotting\n",
    "  - Lab and assignment-based exercises in experimenting with numerical models\n",
    "  - Students developing and sharing programming assignments (GEOL 5775)\n",
    "- Some things you and/or your students can do with notebooks\n",
    "  - Create formatted text (Markdown), math ($\\LaTeX$), and embedded figures\n",
    "  - Run Python, R, or Julia code"
   ]
  },
  {
   "cell_type": "markdown",
   "metadata": {},
   "source": [
    "## About notebooks\n",
    "\n",
    "### Fun fact\n",
    "\n",
    "Jupyter notebooks---originally IPython notebooks---were invented by [Fernando Perez](https://en.wikipedia.org/wiki/Fernando_P%C3%A9rez_(software_developer)) when he was a physics PhD student here at CU Boulder.\n",
    "\n",
    "### Installing locally\n",
    "\n",
    "The easiest way to install the software is to install the [Anaconda Python Distribution](https://www.anaconda.com/products/individual). Once installed, you can launch a notebook \"server\" (a browser app) either through the Anaconda app, or by opening a command window and running: `jupyter notebook`.\n",
    "\n",
    "### Binder and other JupyterHub servers\n",
    "\n",
    "An alternative is to run notebooks on a remote system that's running a JupyterHub server. One free resource is [**Binder**](https://mybinder.org/). CU Research Computing offered a prototype JupyterHub server for teaching in 2019-20; last I checked, they didn't have the resources to continue it in 2020-21 but that may change. CSDMS has a cloud-based server that we use for workshops."
   ]
  },
  {
   "cell_type": "markdown",
   "metadata": {},
   "source": [
    "## Classroom applications\n",
    "\n",
    "### Writing math and notes in real time\n",
    "\n",
    "Below is an excerpt from a notebook I wrote in real time, during a snowstorm, to a mixed audience of students in the room and students connected via zoom:"
   ]
  },
  {
   "cell_type": "markdown",
   "metadata": {},
   "source": [
    "#### Example Pitot calculation:\n",
    "\n",
    "Suppose airspeed is 200 m/s, what's the pressure differential?\n",
    "\n",
    "$P_t - P_s = \\rho v_s^2 / 2$, so:\n"
   ]
  },
  {
   "cell_type": "code",
   "execution_count": 1,
   "metadata": {},
   "outputs": [
    {
     "data": {
      "text/plain": [
       "20000.0"
      ]
     },
     "execution_count": 1,
     "metadata": {},
     "output_type": "execute_result"
    }
   ],
   "source": [
    "rho = 1.0   # kg/m3\n",
    "vs = 200    # m/s\n",
    "dP = rho * vs * vs * 0.5\n",
    "dP"
   ]
  },
  {
   "cell_type": "markdown",
   "metadata": {},
   "source": [
    "### Papers\n",
    "\n",
    "Papers were mostly text and math, but with some calculations in Python code, and some plotting using the `matplotlib` library. Students complained (fairly, I think) that they weren't given enough of a technical introduction, and therefore had to struggle simultaneously with the material and with the notebook operations."
   ]
  },
  {
   "cell_type": "markdown",
   "metadata": {},
   "source": [
    "### Computational assignments\n",
    "\n",
    "Labs integrated into the papers by including data to plot and/or notebooks to run that contained code for simple numerical models. I'll show a demo of one of these model-based notebooks."
   ]
  },
  {
   "cell_type": "markdown",
   "metadata": {},
   "source": [
    "### Programming assignments\n",
    "\n",
    "In both GEOL 5775 Intro to Numerical Modeling (Spring 2020; Anderson & Tucker) and GEOL 5700 Computational Tools (Fall 2018; Kopf & Tucker), students used notebooks to craft computational assignments."
   ]
  },
  {
   "cell_type": "markdown",
   "metadata": {},
   "source": [
    "## Working with Notebooks\n",
    "\n",
    "### Formatted text\n",
    "\n",
    "Text formatting uses a very simple formatting language called *Markdown*.\n",
    "\n",
    "### Formatted math\n",
    "\n",
    "Notebooks use $\\LaTeX$ for formatting math.\n",
    "\n",
    "### Images\n",
    "\n",
    "Images can be dragged and dropped into a markdown cell."
   ]
  },
  {
   "cell_type": "markdown",
   "metadata": {},
   "source": [
    "### Code\n",
    "\n",
    "Jupyter = Julia, Python, and R"
   ]
  },
  {
   "cell_type": "markdown",
   "metadata": {},
   "source": [
    "## Live Demo Stuff Below Here"
   ]
  },
  {
   "cell_type": "code",
   "execution_count": null,
   "metadata": {},
   "outputs": [],
   "source": []
  }
 ],
 "metadata": {
  "kernelspec": {
   "display_name": "Python 3",
   "language": "python",
   "name": "python3"
  },
  "language_info": {
   "codemirror_mode": {
    "name": "ipython",
    "version": 3
   },
   "file_extension": ".py",
   "mimetype": "text/x-python",
   "name": "python",
   "nbconvert_exporter": "python",
   "pygments_lexer": "ipython3",
   "version": "3.7.6"
  }
 },
 "nbformat": 4,
 "nbformat_minor": 4
}
